{
 "cells": [
  {
   "cell_type": "code",
   "execution_count": 1,
   "metadata": {},
   "outputs": [
    {
     "name": "stderr",
     "output_type": "stream",
     "text": [
      "[nltk_data] Downloading package punkt to /home/camilo/nltk_data...\n",
      "[nltk_data]   Package punkt is already up-to-date!\n",
      "[nltk_data] Downloading package stopwords to /home/camilo/nltk_data...\n",
      "[nltk_data]   Package stopwords is already up-to-date!\n"
     ]
    }
   ],
   "source": [
    "import pandas as pd\n",
    "import glob\n",
    "import os\n",
    "import numpy as np\n",
    "import nltk\n",
    "from nltk.stem import PorterStemmer\n",
    "from nltk.tokenize import sent_tokenize, word_tokenize\n",
    "nltk.download('punkt')\n",
    "nltk.download('stopwords')\n",
    "from sklearn.feature_extraction.text import TfidfVectorizer\n",
    "from nltk.corpus import stopwords"
   ]
  },
  {
   "cell_type": "code",
   "execution_count": 2,
   "metadata": {},
   "outputs": [
    {
     "data": {
      "text/html": [
       "<div>\n",
       "<style scoped>\n",
       "    .dataframe tbody tr th:only-of-type {\n",
       "        vertical-align: middle;\n",
       "    }\n",
       "\n",
       "    .dataframe tbody tr th {\n",
       "        vertical-align: top;\n",
       "    }\n",
       "\n",
       "    .dataframe thead th {\n",
       "        text-align: right;\n",
       "    }\n",
       "</style>\n",
       "<table border=\"1\" class=\"dataframe\">\n",
       "  <thead>\n",
       "    <tr style=\"text-align: right;\">\n",
       "      <th></th>\n",
       "      <th>catg</th>\n",
       "      <th>lines</th>\n",
       "      <th>news</th>\n",
       "    </tr>\n",
       "  </thead>\n",
       "  <tbody>\n",
       "    <tr>\n",
       "      <th>0</th>\n",
       "      <td>politics</td>\n",
       "      <td>Tories pledge free sports lessons\\n \\n Childre...</td>\n",
       "      <td>171</td>\n",
       "    </tr>\n",
       "    <tr>\n",
       "      <th>0</th>\n",
       "      <td>politics</td>\n",
       "      <td>Blair prepares to name poll date\\n \\n Tony Bla...</td>\n",
       "      <td>401</td>\n",
       "    </tr>\n",
       "    <tr>\n",
       "      <th>0</th>\n",
       "      <td>politics</td>\n",
       "      <td>Abortion not a poll issue - Blair\\n \\n Tony Bl...</td>\n",
       "      <td>405</td>\n",
       "    </tr>\n",
       "    <tr>\n",
       "      <th>0</th>\n",
       "      <td>politics</td>\n",
       "      <td>Woolf murder sentence rethink\\n \\n Plans to gi...</td>\n",
       "      <td>231</td>\n",
       "    </tr>\n",
       "    <tr>\n",
       "      <th>0</th>\n",
       "      <td>politics</td>\n",
       "      <td>Hague 'given up' his PM ambition\\n \\n Former C...</td>\n",
       "      <td>285</td>\n",
       "    </tr>\n",
       "  </tbody>\n",
       "</table>\n",
       "</div>"
      ],
      "text/plain": [
       "       catg                                              lines news\n",
       "0  politics  Tories pledge free sports lessons\\n \\n Childre...  171\n",
       "0  politics  Blair prepares to name poll date\\n \\n Tony Bla...  401\n",
       "0  politics  Abortion not a poll issue - Blair\\n \\n Tony Bl...  405\n",
       "0  politics  Woolf murder sentence rethink\\n \\n Plans to gi...  231\n",
       "0  politics  Hague 'given up' his PM ambition\\n \\n Former C...  285"
      ]
     },
     "execution_count": 2,
     "metadata": {},
     "output_type": "execute_result"
    }
   ],
   "source": [
    "books = glob.glob('bbc-fulltext/bbc/*/*.txt')\n",
    "d = list()\n",
    "for book_file in books:\n",
    "    #print(os.path.abspath(book_file))\n",
    "    with open(book_file, encoding='utf-8') as f:\n",
    "        catg = os.path.basename(book_file.split('/')[-2])\n",
    "        news = os.path.basename(book_file.split('/')[-1].split('.')[0])\n",
    "        lines = f.readlines()\n",
    "        d.append(pd.DataFrame.from_records([{'news':news, 'catg': catg, 'lines': \" \".join(lines)}]))\n",
    "doc = pd.concat(d)\n",
    "doc.head()"
   ]
  },
  {
   "cell_type": "code",
   "execution_count": 3,
   "metadata": {},
   "outputs": [
    {
     "data": {
      "text/html": [
       "<div>\n",
       "<style scoped>\n",
       "    .dataframe tbody tr th:only-of-type {\n",
       "        vertical-align: middle;\n",
       "    }\n",
       "\n",
       "    .dataframe tbody tr th {\n",
       "        vertical-align: top;\n",
       "    }\n",
       "\n",
       "    .dataframe thead th {\n",
       "        text-align: right;\n",
       "    }\n",
       "</style>\n",
       "<table border=\"1\" class=\"dataframe\">\n",
       "  <thead>\n",
       "    <tr style=\"text-align: right;\">\n",
       "      <th></th>\n",
       "      <th>catg</th>\n",
       "      <th>lines</th>\n",
       "      <th>news</th>\n",
       "      <th>words</th>\n",
       "      <th>cl_lines</th>\n",
       "    </tr>\n",
       "  </thead>\n",
       "  <tbody>\n",
       "    <tr>\n",
       "      <th>0</th>\n",
       "      <td>politics</td>\n",
       "      <td>Tories pledge free sports lessons\\n \\n Childre...</td>\n",
       "      <td>171</td>\n",
       "      <td>[Tories, pledge, free, sports, lessons, Childr...</td>\n",
       "      <td>tori pledg free sport lesson children would be...</td>\n",
       "    </tr>\n",
       "    <tr>\n",
       "      <th>0</th>\n",
       "      <td>politics</td>\n",
       "      <td>Blair prepares to name poll date\\n \\n Tony Bla...</td>\n",
       "      <td>401</td>\n",
       "      <td>[Blair, prepares, to, name, poll, date, Tony, ...</td>\n",
       "      <td>blair prepar to name poll date toni blair is l...</td>\n",
       "    </tr>\n",
       "    <tr>\n",
       "      <th>0</th>\n",
       "      <td>politics</td>\n",
       "      <td>Abortion not a poll issue - Blair\\n \\n Tony Bl...</td>\n",
       "      <td>405</td>\n",
       "      <td>[Abortion, not, a, poll, issue, Blair, Tony, B...</td>\n",
       "      <td>abort not a poll issu blair toni blair doe not...</td>\n",
       "    </tr>\n",
       "    <tr>\n",
       "      <th>0</th>\n",
       "      <td>politics</td>\n",
       "      <td>Woolf murder sentence rethink\\n \\n Plans to gi...</td>\n",
       "      <td>231</td>\n",
       "      <td>[Woolf, murder, sentence, rethink, Plans, to, ...</td>\n",
       "      <td>woolf murder sentenc rethink plan to give murd...</td>\n",
       "    </tr>\n",
       "    <tr>\n",
       "      <th>0</th>\n",
       "      <td>politics</td>\n",
       "      <td>Hague 'given up' his PM ambition\\n \\n Former C...</td>\n",
       "      <td>285</td>\n",
       "      <td>[Hague, given, up, his, PM, ambition, Former, ...</td>\n",
       "      <td>hagu given up hi PM ambit former conserv leade...</td>\n",
       "    </tr>\n",
       "  </tbody>\n",
       "</table>\n",
       "</div>"
      ],
      "text/plain": [
       "       catg                                              lines news  \\\n",
       "0  politics  Tories pledge free sports lessons\\n \\n Childre...  171   \n",
       "0  politics  Blair prepares to name poll date\\n \\n Tony Bla...  401   \n",
       "0  politics  Abortion not a poll issue - Blair\\n \\n Tony Bl...  405   \n",
       "0  politics  Woolf murder sentence rethink\\n \\n Plans to gi...  231   \n",
       "0  politics  Hague 'given up' his PM ambition\\n \\n Former C...  285   \n",
       "\n",
       "                                               words  \\\n",
       "0  [Tories, pledge, free, sports, lessons, Childr...   \n",
       "0  [Blair, prepares, to, name, poll, date, Tony, ...   \n",
       "0  [Abortion, not, a, poll, issue, Blair, Tony, B...   \n",
       "0  [Woolf, murder, sentence, rethink, Plans, to, ...   \n",
       "0  [Hague, given, up, his, PM, ambition, Former, ...   \n",
       "\n",
       "                                            cl_lines  \n",
       "0  tori pledg free sport lesson children would be...  \n",
       "0  blair prepar to name poll date toni blair is l...  \n",
       "0  abort not a poll issu blair toni blair doe not...  \n",
       "0  woolf murder sentenc rethink plan to give murd...  \n",
       "0  hagu given up hi PM ambit former conserv leade...  "
      ]
     },
     "execution_count": 3,
     "metadata": {},
     "output_type": "execute_result"
    }
   ],
   "source": [
    "porter = PorterStemmer()\n",
    "def stemSentence(sentence):\n",
    "    token_words=word_tokenize(sentence)\n",
    "    token_words\n",
    "    stem_sentence=[]\n",
    "    for word in token_words:\n",
    "       #if porter.stem(word) != word:\n",
    "       #     print(word,\" - \",porter.stem(word))\n",
    "        stem_sentence.append(porter.stem(word=word))\n",
    "        stem_sentence.append(\" \")\n",
    "    senteence = \"\".join(stem_sentence)\n",
    "    #print(sentence,\"\\n\", senteence)\n",
    "    return senteence\n",
    "        \n",
    "doc['words'] = doc.lines.str.strip().str.split('[\\W]+')\n",
    "doc['cl_lines'] = doc.words.str.join(\" \")\n",
    "for index, row in doc.iterrows():\n",
    "    row['cl_lines']=stemSentence(row['cl_lines']).strip()\n",
    "#doc['cl_lines'].apply(stemSentence)\n",
    "doc.head()"
   ]
  },
  {
   "cell_type": "code",
   "execution_count": 4,
   "metadata": {},
   "outputs": [
    {
     "data": {
      "text/html": [
       "<div>\n",
       "<style scoped>\n",
       "    .dataframe tbody tr th:only-of-type {\n",
       "        vertical-align: middle;\n",
       "    }\n",
       "\n",
       "    .dataframe tbody tr th {\n",
       "        vertical-align: top;\n",
       "    }\n",
       "\n",
       "    .dataframe thead th {\n",
       "        text-align: right;\n",
       "    }\n",
       "</style>\n",
       "<table border=\"1\" class=\"dataframe\">\n",
       "  <thead>\n",
       "    <tr style=\"text-align: right;\">\n",
       "      <th></th>\n",
       "      <th>news</th>\n",
       "      <th>catg</th>\n",
       "      <th>cl_lines</th>\n",
       "    </tr>\n",
       "  </thead>\n",
       "  <tbody>\n",
       "    <tr>\n",
       "      <th>0</th>\n",
       "      <td>171</td>\n",
       "      <td>politics</td>\n",
       "      <td>tori pledg free sport lesson children would be...</td>\n",
       "    </tr>\n",
       "    <tr>\n",
       "      <th>0</th>\n",
       "      <td>401</td>\n",
       "      <td>politics</td>\n",
       "      <td>blair prepar to name poll date toni blair is l...</td>\n",
       "    </tr>\n",
       "    <tr>\n",
       "      <th>0</th>\n",
       "      <td>405</td>\n",
       "      <td>politics</td>\n",
       "      <td>abort not a poll issu blair toni blair doe not...</td>\n",
       "    </tr>\n",
       "    <tr>\n",
       "      <th>0</th>\n",
       "      <td>231</td>\n",
       "      <td>politics</td>\n",
       "      <td>woolf murder sentenc rethink plan to give murd...</td>\n",
       "    </tr>\n",
       "    <tr>\n",
       "      <th>0</th>\n",
       "      <td>285</td>\n",
       "      <td>politics</td>\n",
       "      <td>hagu given up hi PM ambit former conserv leade...</td>\n",
       "    </tr>\n",
       "  </tbody>\n",
       "</table>\n",
       "</div>"
      ],
      "text/plain": [
       "  news      catg                                           cl_lines\n",
       "0  171  politics  tori pledg free sport lesson children would be...\n",
       "0  401  politics  blair prepar to name poll date toni blair is l...\n",
       "0  405  politics  abort not a poll issu blair toni blair doe not...\n",
       "0  231  politics  woolf murder sentenc rethink plan to give murd...\n",
       "0  285  politics  hagu given up hi PM ambit former conserv leade..."
      ]
     },
     "execution_count": 4,
     "metadata": {},
     "output_type": "execute_result"
    }
   ],
   "source": [
    "cl_doc = pd.DataFrame(doc, columns=['news','catg', 'cl_lines'])\n",
    "cl_doc.head()"
   ]
  },
  {
   "cell_type": "code",
   "execution_count": 5,
   "metadata": {},
   "outputs": [
    {
     "name": "stdout",
     "output_type": "stream",
     "text": [
      "(2224, 20480)\n"
     ]
    }
   ],
   "source": [
    "corpus = cl_doc['cl_lines'].values\n",
    "stop_wordds = stopwords.words('english')\n",
    "vectorizer = TfidfVectorizer(stop_words=stop_wordds)\n",
    "X = vectorizer.fit_transform(corpus)\n",
    "print(X.shape)\n"
   ]
  },
  {
   "cell_type": "code",
   "execution_count": 6,
   "metadata": {},
   "outputs": [
    {
     "name": "stdout",
     "output_type": "stream",
     "text": [
      "[[ 0.21440846  0.08590012 -0.04226514]\n",
      " [ 0.27276225  0.26541399 -0.06813152]\n",
      " [ 0.28961755  0.2208493  -0.09741538]\n",
      " ...\n",
      " [ 0.24199242 -0.13444291 -0.17500457]\n",
      " [ 0.195571   -0.13123664 -0.19386461]\n",
      " [ 0.1234399  -0.03402338 -0.03113022]]\n"
     ]
    }
   ],
   "source": [
    "from sklearn.decomposition import TruncatedSVD\n",
    "svd = TruncatedSVD(n_components=3)\n",
    "#print(svd)\n",
    "X_svd = svd.fit_transform(X)\n",
    "print(X_svd)"
   ]
  },
  {
   "cell_type": "code",
   "execution_count": 7,
   "metadata": {},
   "outputs": [
    {
     "name": "stdout",
     "output_type": "stream",
     "text": [
      "politics\n",
      "business\n",
      "entertainment\n",
      "tech\n",
      "sport\n"
     ]
    }
   ],
   "source": [
    "\n",
    "y = cl_doc[\"catg\"].tolist()\n",
    "# intilize a null list \n",
    "unique_list = [] \n",
    "      \n",
    "# traverse for all elements \n",
    "for w in y: \n",
    "# check if exists in unique_list or not \n",
    "    if w not in unique_list: \n",
    "        unique_list.append(w) \n",
    "# print list \n",
    "for w in unique_list: \n",
    "    print(w,) \n"
   ]
  },
  {
   "cell_type": "code",
   "execution_count": 44,
   "metadata": {},
   "outputs": [
    {
     "data": {
      "text/plain": [
       "array([[105,   4,  10,   0,  13],\n",
       "       [  4,  75,   3,  14,   1],\n",
       "       [  9,   0,  96,   0,   0],\n",
       "       [  0,   6,   0, 114,   0],\n",
       "       [ 27,  12,   1,   0,  62]])"
      ]
     },
     "execution_count": 44,
     "metadata": {},
     "output_type": "execute_result"
    }
   ],
   "source": [
    "from sklearn.neural_network import MLPClassifier\n",
    "from sklearn.model_selection import train_test_split\n",
    "from sklearn.metrics import confusion_matrix, precision_score, recall_score, accuracy_score, f1_score\n",
    "#from sklearn.model_selection import cross_validate\n",
    "clf = MLPClassifier(solver='lbfgs', alpha=1e-5, hidden_layer_sizes=(4,3))\n",
    "#from sklearn.model_selection import cross_val_score\n",
    "#scoring = ['precision', 'recall', 'accuracy']\n",
    "#scores = cross_validate(clf, X_svd, y, cv=5, scoring=scoring, return_train_score=False)\n",
    "#print(scores)\n",
    "\n",
    "# Split the data into a training set and a test set\n",
    "X_train, X_test, y_train, y_test = train_test_split(X_svd, y, random_state=0)\n",
    "#cross_val_score(clf, X_train, y_train, scoring='accuracy', cv=5)\n",
    "clf.fit(X_train,y_train)\n",
    "y_pred = clf.predict(X_test)\n",
    "confusion_matrix(y_test, y_pred)"
   ]
  },
  {
   "cell_type": "code",
   "execution_count": 45,
   "metadata": {},
   "outputs": [
    {
     "data": {
      "text/plain": [
       "array([0.79545455, 0.77319588, 0.91428571, 0.95      , 0.60784314])"
      ]
     },
     "execution_count": 45,
     "metadata": {},
     "output_type": "execute_result"
    }
   ],
   "source": [
    "recall_score(y_test, y_pred, average=None)"
   ]
  },
  {
   "cell_type": "code",
   "execution_count": 46,
   "metadata": {},
   "outputs": [
    {
     "data": {
      "text/plain": [
       "array([0.72413793, 0.77319588, 0.87272727, 0.890625  , 0.81578947])"
      ]
     },
     "execution_count": 46,
     "metadata": {},
     "output_type": "execute_result"
    }
   ],
   "source": [
    "precision_score(y_test, y_pred, average=None)"
   ]
  },
  {
   "cell_type": "code",
   "execution_count": 47,
   "metadata": {},
   "outputs": [
    {
     "data": {
      "text/plain": [
       "array([0.75812274, 0.77319588, 0.89302326, 0.91935484, 0.69662921])"
      ]
     },
     "execution_count": 47,
     "metadata": {},
     "output_type": "execute_result"
    }
   ],
   "source": [
    "f1_score(y_test, y_pred, average=None)"
   ]
  },
  {
   "cell_type": "code",
   "execution_count": 48,
   "metadata": {},
   "outputs": [
    {
     "data": {
      "text/plain": [
       "0.8129496402877698"
      ]
     },
     "execution_count": 48,
     "metadata": {},
     "output_type": "execute_result"
    }
   ],
   "source": [
    "accuracy_score(y_test, y_pred)"
   ]
  }
 ],
 "metadata": {
  "kernelspec": {
   "display_name": "Python 3",
   "language": "python",
   "name": "python3"
  },
  "language_info": {
   "codemirror_mode": {
    "name": "ipython",
    "version": 3
   },
   "file_extension": ".py",
   "mimetype": "text/x-python",
   "name": "python",
   "nbconvert_exporter": "python",
   "pygments_lexer": "ipython3",
   "version": "3.7.0"
  }
 },
 "nbformat": 4,
 "nbformat_minor": 2
}
